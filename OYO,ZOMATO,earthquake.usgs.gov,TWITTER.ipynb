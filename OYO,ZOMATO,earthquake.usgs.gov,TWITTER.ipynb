{
 "cells": [
  {
   "cell_type": "code",
   "execution_count": null,
   "metadata": {},
   "outputs": [],
   "source": [
    "### Alternative approach to oyorooms\n",
    "url=\"https://www.oyorooms.com/hotels-in-coimbatore/?page=4\"\n",
    "from selenium import webdriver\n",
    "from bs4 import BeautifulSoup\n",
    "import pandas as pd\n",
    "import numpy as np\n",
    "import os\n",
    "path=r\"D:\\pgp manipal\\chromedriver_win32\"\n",
    "os.chdir(path)\n",
    "browser=webdriver.Chrome()"
   ]
  },
  {
   "cell_type": "code",
   "execution_count": null,
   "metadata": {},
   "outputs": [],
   "source": [
    "browser.get(url)\n",
    "html=browser.page_source\n",
    "soup=BeautifulSoup(html,'html.parser')"
   ]
  },
  {
   "cell_type": "code",
   "execution_count": null,
   "metadata": {},
   "outputs": [],
   "source": [
    "listings=soup.find_all(\"div\",class_=\"hotelCardListing__descriptionWrapper\")"
   ]
  },
  {
   "cell_type": "code",
   "execution_count": null,
   "metadata": {},
   "outputs": [],
   "source": [
    "len(listings)"
   ]
  },
  {
   "cell_type": "code",
   "execution_count": null,
   "metadata": {},
   "outputs": [],
   "source": [
    "list(listings)"
   ]
  },
  {
   "cell_type": "code",
   "execution_count": null,
   "metadata": {},
   "outputs": [],
   "source": [
    "listings[-1].find_all(\"span\",class_=\"listingPrice__finalPrice\")"
   ]
  },
  {
   "cell_type": "code",
   "execution_count": null,
   "metadata": {},
   "outputs": [],
   "source": [
    "### logic for all:\n",
    "title=[]\n",
    "addr=[]\n",
    "rating=[]\n",
    "price=[]\n",
    "for listing in listings:\n",
    "    t=listing.find_all(\"h3\",attrs={'itemprop':'name'})\n",
    "    if len(t)!=0:\n",
    "        title.append(t[0].text)\n",
    "    else:\n",
    "        title.append(\"Not Found\")\n",
    "    a=listing.find_all(\"span\",attrs={'itemprop':'streetAddress'})\n",
    "    if len(a)!=0:\n",
    "        addr.append(a[0].text)\n",
    "    else:\n",
    "        addr.append(\"Not found\")\n",
    "    r=listing.find_all(\"meta\",attrs={'itemprop':'ratingValue'})\n",
    "    if len(r)!=0:\n",
    "        rating.append(r[0].get('content'))\n",
    "    else:\n",
    "        rating.append(\"Not found\")\n",
    "    p=listing.find_all(\"span\",class_=\"listingPrice__finalPrice\")\n",
    "    if len(p)!=0:\n",
    "        price.append(p[0].text)\n",
    "    else:\n",
    "        price.append(\"Not found\")"
   ]
  },
  {
   "cell_type": "code",
   "execution_count": null,
   "metadata": {},
   "outputs": [],
   "source": [
    "table=pd.DataFrame({'title':title,'addr':addr,'rating':rating,'price':price})"
   ]
  },
  {
   "cell_type": "raw",
   "metadata": {},
   "source": [
    "def get_data(url):\n",
    "    browser.get(url)\n",
    "    html=browser.page_source\n",
    "    soup=BeautifulSoup(html,'html.parser')\n",
    "    listings=soup.find_all(\"div\",class_=\"hotelCardListing__descriptionWrapper\")\n",
    "    title=[]\n",
    "    addr=[]\n",
    "    rating=[]\n",
    "    price=[]\n",
    "    for listing in listings:\n",
    "        t=listing.find_all(\"h3\",attrs={'itemprop':'name'})\n",
    "        if len(t)!=0:\n",
    "            title.append(t[0].text)\n",
    "        else:\n",
    "            title.append(\"Not Found\")\n",
    "        a=listing.find_all(\"span\",attrs={'itemprop':'streetAddress'})\n",
    "        if len(a)!=0:\n",
    "            addr.append(a[0].text)\n",
    "        else:\n",
    "            addr.append(\"Not found\")\n",
    "        r=listing.find_all(\"meta\",attrs={'itemprop':'ratingValue'})\n",
    "        if len(r)!=0:\n",
    "            rating.append(r[0].get('content'))\n",
    "        else:\n",
    "            rating.append(\"Not found\")\n",
    "        p=listing.find_all(\"span\",class_=\"listingPrice__finalPrice\")\n",
    "        if len(p)!=0:\n",
    "            price.append(p[0].text)\n",
    "        else:\n",
    "            price.append(\"Not found\")\n",
    "    table=pd.DataFrame({'title':title,'addr':addr,'rating':rating,'price':price})\n",
    "    return table\n",
    "        "
   ]
  },
  {
   "cell_type": "code",
   "execution_count": null,
   "metadata": {},
   "outputs": [],
   "source": [
    "url=\"https://www.oyorooms.com/hotels-in-coimbatore/?page=4\"\n",
    "get_data(url)"
   ]
  },
  {
   "cell_type": "code",
   "execution_count": null,
   "metadata": {},
   "outputs": [],
   "source": [
    "from tqdm import tqdm\n",
    "base_url=\"https://www.oyorooms.com/hotels-in-coimbatore/?page={}\"\n",
    "tables=[]\n",
    "for i in tqdm(range(1,5)):\n",
    "    url=base_url.format(i)\n",
    "    tables.append(get_data(url))"
   ]
  },
  {
   "cell_type": "code",
   "execution_count": null,
   "metadata": {},
   "outputs": [],
   "source": [
    "big_table=pd.concat(tables,axis=0)"
   ]
  },
  {
   "cell_type": "code",
   "execution_count": null,
   "metadata": {},
   "outputs": [],
   "source": [
    "big_table.head(2)"
   ]
  },
  {
   "cell_type": "code",
   "execution_count": null,
   "metadata": {},
   "outputs": [],
   "source": [
    "big_table.shape"
   ]
  },
  {
   "cell_type": "code",
   "execution_count": null,
   "metadata": {},
   "outputs": [],
   "source": [
    "### Zomato Example\n",
    "url=\"https://www.zomato.com/bangalore/hyderabadi-spice-3-electronic-city/reviews\"\n",
    "browser.get(url)"
   ]
  },
  {
   "cell_type": "code",
   "execution_count": null,
   "metadata": {},
   "outputs": [],
   "source": [
    "path=\"/html/body/div[7]/div[1]/div/div[1]/div[3]/div/div[3]/div[1]/div[1]/div[1]/div/div[3]/a[2]\"\n",
    "all_rev=browser.find_element_by_xpath(path)"
   ]
  },
  {
   "cell_type": "code",
   "execution_count": null,
   "metadata": {},
   "outputs": [],
   "source": [
    "all_rev.click()"
   ]
  },
  {
   "cell_type": "code",
   "execution_count": null,
   "metadata": {},
   "outputs": [],
   "source": [
    "x=browser.find_elements_by_class_name(\"zred\")"
   ]
  },
  {
   "cell_type": "code",
   "execution_count": null,
   "metadata": {},
   "outputs": [],
   "source": [
    "x"
   ]
  },
  {
   "cell_type": "code",
   "execution_count": null,
   "metadata": {},
   "outputs": [],
   "source": [
    "len(x)"
   ]
  },
  {
   "cell_type": "code",
   "execution_count": null,
   "metadata": {},
   "outputs": [],
   "source": [
    "x[8].text.strip()"
   ]
  },
  {
   "cell_type": "code",
   "execution_count": null,
   "metadata": {},
   "outputs": [],
   "source": [
    "for i in x:\n",
    "    print(i)"
   ]
  },
  {
   "cell_type": "code",
   "execution_count": null,
   "metadata": {},
   "outputs": [],
   "source": [
    "for i in x:\n",
    "    if i.text.strip()==\"LOAD MORE\":\n",
    "        print(i.text.strip())\n",
    "        i.click()\n",
    "    else:\n",
    "        print(\"Not found\")"
   ]
  },
  {
   "cell_type": "code",
   "execution_count": null,
   "metadata": {},
   "outputs": [],
   "source": [
    "x=browser.find_elements_by_class_name(\"zred\")"
   ]
  },
  {
   "cell_type": "code",
   "execution_count": null,
   "metadata": {},
   "outputs": [],
   "source": [
    "len(x)"
   ]
  },
  {
   "cell_type": "code",
   "execution_count": null,
   "metadata": {},
   "outputs": [],
   "source": [
    "#### Go to home-> get all reviews tab->click load more button twice\n",
    "url=\"https://www.zomato.com/bangalore/hyderabadi-spice-3-electronic-city/reviews\"\n",
    "browser.get(url)"
   ]
  },
  {
   "cell_type": "code",
   "execution_count": null,
   "metadata": {},
   "outputs": [],
   "source": [
    "path=\"/html/body/div[7]/div[1]/div/div[1]/div[3]/div/div[3]/div[1]/div[1]/div[1]/div/div[3]/a[2]\"\n",
    "all_rev=browser.find_element_by_xpath(path)\n",
    "all_rev.click()"
   ]
  },
  {
   "cell_type": "code",
   "execution_count": null,
   "metadata": {},
   "outputs": [],
   "source": [
    "import time\n",
    "def click():\n",
    "    x=browser.find_elements_by_class_name(\"zred\")\n",
    "    flag=False\n",
    "    for i in x:\n",
    "        if i.text.strip()=='LOAD MORE':\n",
    "            i.click()\n",
    "            flag=True\n",
    "            time.sleep(2)\n",
    "    return flag"
   ]
  },
  {
   "cell_type": "code",
   "execution_count": null,
   "metadata": {},
   "outputs": [],
   "source": [
    "click()"
   ]
  },
  {
   "cell_type": "code",
   "execution_count": null,
   "metadata": {},
   "outputs": [],
   "source": [
    "flag=True\n",
    "while flag:\n",
    "    flag=click()"
   ]
  },
  {
   "cell_type": "code",
   "execution_count": null,
   "metadata": {},
   "outputs": [],
   "source": [
    "html=browser.page_source"
   ]
  },
  {
   "cell_type": "code",
   "execution_count": null,
   "metadata": {},
   "outputs": [],
   "source": [
    "soup=BeautifulSoup(html,'html.parser')"
   ]
  },
  {
   "cell_type": "code",
   "execution_count": null,
   "metadata": {},
   "outputs": [],
   "source": [
    "for i in soup.find_all(\"div\",class_=\"rev-text\"):\n",
    "    print(i.text.strip())"
   ]
  },
  {
   "cell_type": "code",
   "execution_count": null,
   "metadata": {},
   "outputs": [],
   "source": [
    "url=\"https://earthquake.usgs.gov/fdsnws/event/1/query?format=geojson&starttime=2016-10-03&endtime=2016-10-04\"\n",
    "import requests"
   ]
  },
  {
   "cell_type": "code",
   "execution_count": null,
   "metadata": {},
   "outputs": [],
   "source": [
    "resp=requests.get(url).json()"
   ]
  },
  {
   "cell_type": "code",
   "execution_count": null,
   "metadata": {},
   "outputs": [],
   "source": [
    "type(resp)"
   ]
  },
  {
   "cell_type": "code",
   "execution_count": null,
   "metadata": {},
   "outputs": [],
   "source": [
    "resp.keys()"
   ]
  },
  {
   "cell_type": "code",
   "execution_count": null,
   "metadata": {},
   "outputs": [],
   "source": [
    "resp['type']"
   ]
  },
  {
   "cell_type": "code",
   "execution_count": null,
   "metadata": {},
   "outputs": [],
   "source": [
    "resp.get('type')"
   ]
  },
  {
   "cell_type": "code",
   "execution_count": null,
   "metadata": {},
   "outputs": [],
   "source": [
    "resp['metadata'].keys()"
   ]
  },
  {
   "cell_type": "code",
   "execution_count": null,
   "metadata": {},
   "outputs": [],
   "source": [
    "resp['features'][0].keys()"
   ]
  },
  {
   "cell_type": "code",
   "execution_count": null,
   "metadata": {},
   "outputs": [],
   "source": [
    "resp['features'][0] ## Find out the time and the type of all \n",
    "## the events"
   ]
  },
  {
   "cell_type": "code",
   "execution_count": null,
   "metadata": {},
   "outputs": [],
   "source": [
    "time=[]\n",
    "typ=[]\n",
    "for i in resp['features']:\n",
    "    time.append(i['properties']['time'])\n",
    "    typ.append(i['properties']['type'])"
   ]
  },
  {
   "cell_type": "code",
   "execution_count": null,
   "metadata": {},
   "outputs": [],
   "source": [
    "table=pd.DataFrame({'time':time,'type':typ})"
   ]
  },
  {
   "cell_type": "code",
   "execution_count": null,
   "metadata": {},
   "outputs": [],
   "source": [
    "### Tsunami or not\n",
    "for i in resp['features']:\n",
    "    print(i['geometry']['coordinates'][-1])\n",
    "    "
   ]
  },
  {
   "cell_type": "code",
   "execution_count": null,
   "metadata": {},
   "outputs": [],
   "source": [
    "### Class Excercise\n",
    "url=\"https://earthquake.usgs.gov/fdsnws/event/1/query?format=geojson&starttime=2016-10-01&endtime=2016-10-02\""
   ]
  },
  {
   "cell_type": "code",
   "execution_count": null,
   "metadata": {},
   "outputs": [],
   "source": [
    "resp=requests.get(url).json()"
   ]
  },
  {
   "cell_type": "code",
   "execution_count": null,
   "metadata": {},
   "outputs": [],
   "source": [
    "resp.keys()"
   ]
  },
  {
   "cell_type": "code",
   "execution_count": null,
   "metadata": {},
   "outputs": [],
   "source": [
    "type(resp['features'])"
   ]
  },
  {
   "cell_type": "code",
   "execution_count": null,
   "metadata": {},
   "outputs": [],
   "source": [
    "len(resp['features'])"
   ]
  },
  {
   "cell_type": "code",
   "execution_count": null,
   "metadata": {},
   "outputs": [],
   "source": [
    "type(resp['features'][0])"
   ]
  },
  {
   "cell_type": "code",
   "execution_count": null,
   "metadata": {},
   "outputs": [],
   "source": [
    "lat=[]\n",
    "lon=[]\n",
    "for i in resp['features']:\n",
    "    lat.append(i['geometry']['coordinates'][0])\n",
    "    lon.append(i['geometry']['coordinates'][1])"
   ]
  },
  {
   "cell_type": "code",
   "execution_count": null,
   "metadata": {},
   "outputs": [],
   "source": [
    "place=[]\n",
    "for i in resp['features']:\n",
    "    place.append(i['properties']['place'])"
   ]
  },
  {
   "cell_type": "code",
   "execution_count": null,
   "metadata": {},
   "outputs": [],
   "source": [
    "mag=[]\n",
    "for i in resp['features']:\n",
    "    mag.append(i['properties']['mag'])"
   ]
  },
  {
   "cell_type": "code",
   "execution_count": null,
   "metadata": {},
   "outputs": [],
   "source": [
    "table=pd.DataFrame({'lat':lat,'lon':lon,'place':place,'mag':mag})"
   ]
  },
  {
   "cell_type": "code",
   "execution_count": null,
   "metadata": {},
   "outputs": [],
   "source": [
    "table.shape"
   ]
  },
  {
   "cell_type": "code",
   "execution_count": null,
   "metadata": {},
   "outputs": [],
   "source": [
    "table.dtypes"
   ]
  },
  {
   "cell_type": "code",
   "execution_count": null,
   "metadata": {},
   "outputs": [],
   "source": [
    "table.query(\"mag>2\").shape[0]"
   ]
  },
  {
   "cell_type": "code",
   "execution_count": null,
   "metadata": {},
   "outputs": [],
   "source": [
    "table['place'].str.contains('California').sum()"
   ]
  },
  {
   "cell_type": "code",
   "execution_count": null,
   "metadata": {},
   "outputs": [],
   "source": [
    "table['place'].map(lambda x:1 if 'California' in x else 0).sum()"
   ]
  },
  {
   "cell_type": "code",
   "execution_count": null,
   "metadata": {},
   "outputs": [],
   "source": [
    "table.query(\"mag>5\").shape[0]"
   ]
  },
  {
   "cell_type": "code",
   "execution_count": null,
   "metadata": {},
   "outputs": [],
   "source": [
    "import tweepy"
   ]
  },
  {
   "cell_type": "code",
   "execution_count": null,
   "metadata": {},
   "outputs": [],
   "source": [
    "api_key=\"MNjVv7nk4zC6n8jplbmk2KOpz\"\n",
    "api_secret=\"YEMPK021whcYgXU6DsgihWIRIspl3T2qk9dyqLkdvkET7AZLXm\"\n",
    "access_token=\"897478702128275457-XdQatKUoG1wcABKBMpQQaVb4bwVyiBP\"\n",
    "access_secret=\"z7glRxY7bP97F4uahhEonfB6C8MepTcyRvjihtGSpJCf6\""
   ]
  },
  {
   "cell_type": "code",
   "execution_count": null,
   "metadata": {},
   "outputs": [],
   "source": [
    "auth=tweepy.OAuthHandler(api_key,api_secret)\n",
    "auth.set_access_token(access_token,access_secret)\n",
    "api=tweepy.API(auth)"
   ]
  },
  {
   "cell_type": "code",
   "execution_count": null,
   "metadata": {},
   "outputs": [],
   "source": [
    "user_tweets=api.user_timeline(\"@RahulGandhi\",page=1,count=200)"
   ]
  },
  {
   "cell_type": "code",
   "execution_count": null,
   "metadata": {},
   "outputs": [],
   "source": [
    "len(user_tweets)"
   ]
  },
  {
   "cell_type": "code",
   "execution_count": null,
   "metadata": {},
   "outputs": [],
   "source": [
    "print(dir(user_tweets[0]))"
   ]
  },
  {
   "cell_type": "code",
   "execution_count": null,
   "metadata": {},
   "outputs": [],
   "source": [
    "user_tweets[0].text"
   ]
  },
  {
   "cell_type": "code",
   "execution_count": null,
   "metadata": {},
   "outputs": [],
   "source": [
    "user_tweets[0].created_at"
   ]
  },
  {
   "cell_type": "code",
   "execution_count": null,
   "metadata": {},
   "outputs": [],
   "source": [
    "user_tweets[0].source"
   ]
  },
  {
   "cell_type": "code",
   "execution_count": null,
   "metadata": {},
   "outputs": [],
   "source": [
    "text=[]\n",
    "Time=[]\n",
    "source=[]\n",
    "rt=[]\n",
    "lang=[]\n",
    "for tweet in user_tweets:\n",
    "    text.append(tweet.text)\n",
    "    Time.append(tweet.created_at)\n",
    "    source.append(tweet.source)\n",
    "    rt.append(tweet.retweet_count)\n",
    "    lang.append(tweet.lang)"
   ]
  },
  {
   "cell_type": "code",
   "execution_count": null,
   "metadata": {},
   "outputs": [],
   "source": [
    "table=pd.DataFrame({'text':text,'time':Time,'source':source,'rt':rt,\\\n",
    "                   'lang':lang})"
   ]
  },
  {
   "cell_type": "code",
   "execution_count": null,
   "metadata": {},
   "outputs": [],
   "source": [
    "table['lang'].value_counts()"
   ]
  },
  {
   "cell_type": "code",
   "execution_count": null,
   "metadata": {},
   "outputs": [],
   "source": [
    "table['source'].value_counts()"
   ]
  },
  {
   "cell_type": "code",
   "execution_count": null,
   "metadata": {},
   "outputs": [],
   "source": [
    "from tqdm import tqdm\n",
    "text=[]\n",
    "Time=[]\n",
    "source=[]\n",
    "rt=[]\n",
    "lang=[]\n",
    "for i in tqdm(range(1,9)):\n",
    "    user_tweets=api.user_timeline(\"@RahulGandhi\",page=i,count=200)\n",
    "    for tweet in user_tweets:\n",
    "        text.append(tweet.text)\n",
    "        Time.append(tweet.created_at)\n",
    "        source.append(tweet.source)\n",
    "        rt.append(tweet.retweet_count)\n",
    "        lang.append(tweet.lang)\n",
    "table=pd.DataFrame({'text':text,'time':Time,'source':source,'rt':rt,\\\n",
    "                   'lang':lang})"
   ]
  },
  {
   "cell_type": "code",
   "execution_count": null,
   "metadata": {},
   "outputs": [],
   "source": [
    "table['lang'].value_counts()"
   ]
  },
  {
   "cell_type": "code",
   "execution_count": null,
   "metadata": {},
   "outputs": [],
   "source": [
    "from tqdm import tqdm\n",
    "text=[]\n",
    "Time=[]\n",
    "source=[]\n",
    "rt=[]\n",
    "lang=[]\n",
    "for i in tqdm(range(1,20)):\n",
    "    user_tweets=api.user_timeline(\"@narendramodi\",page=i,count=200)\n",
    "    for tweet in user_tweets:\n",
    "        text.append(tweet.text)\n",
    "        Time.append(tweet.created_at)\n",
    "        source.append(tweet.source)\n",
    "        rt.append(tweet.retweet_count)\n",
    "        lang.append(tweet.lang)\n",
    "table=pd.DataFrame({'text':text,'time':Time,'source':source,'rt':rt,\\\n",
    "                   'lang':lang})"
   ]
  },
  {
   "cell_type": "code",
   "execution_count": null,
   "metadata": {},
   "outputs": [],
   "source": [
    "ind=table[table['text'].str.contains(\"#\")].index"
   ]
  },
  {
   "cell_type": "code",
   "execution_count": null,
   "metadata": {},
   "outputs": [],
   "source": [
    "table.iloc[ind]['text']"
   ]
  },
  {
   "cell_type": "code",
   "execution_count": null,
   "metadata": {},
   "outputs": [],
   "source": []
  }
 ],
 "metadata": {
  "kernelspec": {
   "display_name": "Python 3",
   "language": "python",
   "name": "python3"
  },
  "language_info": {
   "codemirror_mode": {
    "name": "ipython",
    "version": 3
   },
   "file_extension": ".py",
   "mimetype": "text/x-python",
   "name": "python",
   "nbconvert_exporter": "python",
   "pygments_lexer": "ipython3",
   "version": "3.7.3"
  }
 },
 "nbformat": 4,
 "nbformat_minor": 2
}
