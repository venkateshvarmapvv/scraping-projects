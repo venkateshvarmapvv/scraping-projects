{
 "cells": [
  {
   "cell_type": "code",
   "execution_count": 3,
   "metadata": {},
   "outputs": [],
   "source": [
    "path=\"C:\\\\Users\\\\HP\\\\Desktop\\\\html.html\"\n",
    "con=open(path)\n",
    "html=con.read()\n",
    "con.close()"
   ]
  },
  {
   "cell_type": "code",
   "execution_count": 4,
   "metadata": {},
   "outputs": [
    {
     "name": "stdout",
     "output_type": "stream",
     "text": [
      "<!DOCTYPE html>\n",
      "\n",
      "<html>\n",
      "    <head>\n",
      "        <title>GETTING STARTED WITH bs4</title>\n",
      "    </head>\n",
      "    <div class=\"para 1\">\n",
      "        <p>\n",
      "            This is paragraph one\n",
      "        </p>\n",
      "        <p>\n",
      "            This is paragraph two\n",
      "        </p>\n",
      "    </div>\n",
      "    <div class='para 2'>\n",
      "        <p>\n",
      "            This is para 1 in div 2\n",
      "        </p>\n",
      "    \n",
      "    </div>\n",
      "    <div class=\"para 1\">\n",
      "        <p>\n",
      "            This is paragraph three of div with class para 1\n",
      "        </p>\n",
      "        <p>\n",
      "            This is paragraph four of div with class para 1\n",
      "        </p>\n",
      "    </div>\n",
      "\n",
      "</html>\n"
     ]
    }
   ],
   "source": [
    "print(html)"
   ]
  },
  {
   "cell_type": "code",
   "execution_count": 5,
   "metadata": {},
   "outputs": [],
   "source": [
    "#!pip install bs4"
   ]
  },
  {
   "cell_type": "code",
   "execution_count": 6,
   "metadata": {},
   "outputs": [
    {
     "data": {
      "text/plain": [
       "'<!DOC'"
      ]
     },
     "execution_count": 6,
     "metadata": {},
     "output_type": "execute_result"
    }
   ],
   "source": [
    "html[0:5]"
   ]
  },
  {
   "cell_type": "code",
   "execution_count": 7,
   "metadata": {},
   "outputs": [],
   "source": [
    "from bs4 import BeautifulSoup"
   ]
  },
  {
   "cell_type": "code",
   "execution_count": 8,
   "metadata": {},
   "outputs": [],
   "source": [
    "soup=BeautifulSoup(html,'html.parser')"
   ]
  },
  {
   "cell_type": "code",
   "execution_count": 9,
   "metadata": {},
   "outputs": [
    {
     "data": {
      "text/plain": [
       "'\\n            This is paragraph one\\n        '"
      ]
     },
     "execution_count": 9,
     "metadata": {},
     "output_type": "execute_result"
    }
   ],
   "source": [
    "soup.p.text"
   ]
  },
  {
   "cell_type": "code",
   "execution_count": 10,
   "metadata": {},
   "outputs": [
    {
     "name": "stdout",
     "output_type": "stream",
     "text": [
      "This is paragraph one\n",
      "This is paragraph two\n",
      "This is para 1 in div 2\n",
      "This is paragraph three of div with class para 1\n",
      "This is paragraph four of div with class para 1\n"
     ]
    }
   ],
   "source": [
    "for i in soup.find_all(\"p\"):\n",
    "    print(i.text.strip())"
   ]
  },
  {
   "cell_type": "code",
   "execution_count": 11,
   "metadata": {},
   "outputs": [
    {
     "data": {
      "text/plain": [
       "[<div class=\"para 2\">\n",
       " <p>\n",
       "             This is para 1 in div 2\n",
       "         </p>\n",
       " </div>]"
      ]
     },
     "execution_count": 11,
     "metadata": {},
     "output_type": "execute_result"
    }
   ],
   "source": [
    "soup.find_all(\"div\",class_=\"para 2\")"
   ]
  },
  {
   "cell_type": "code",
   "execution_count": 12,
   "metadata": {},
   "outputs": [
    {
     "data": {
      "text/plain": [
       "[<div class=\"para 1\">\n",
       " <p>\n",
       "             This is paragraph one\n",
       "         </p>\n",
       " <p>\n",
       "             This is paragraph two\n",
       "         </p>\n",
       " </div>, <div class=\"para 1\">\n",
       " <p>\n",
       "             This is paragraph three of div with class para 1\n",
       "         </p>\n",
       " <p>\n",
       "             This is paragraph four of div with class para 1\n",
       "         </p>\n",
       " </div>]"
      ]
     },
     "execution_count": 12,
     "metadata": {},
     "output_type": "execute_result"
    }
   ],
   "source": [
    "soup.find_all(\"div\",class_=\"para 1\")"
   ]
  },
  {
   "cell_type": "code",
   "execution_count": 13,
   "metadata": {},
   "outputs": [],
   "source": [
    "divs=soup.find_all(\"div\",class_=\"para 1\")"
   ]
  },
  {
   "cell_type": "code",
   "execution_count": 14,
   "metadata": {},
   "outputs": [
    {
     "data": {
      "text/plain": [
       "2"
      ]
     },
     "execution_count": 14,
     "metadata": {},
     "output_type": "execute_result"
    }
   ],
   "source": [
    "len(divs)"
   ]
  },
  {
   "cell_type": "code",
   "execution_count": 15,
   "metadata": {},
   "outputs": [],
   "source": [
    "p_1=divs[0].find_all(\"p\")"
   ]
  },
  {
   "cell_type": "code",
   "execution_count": 16,
   "metadata": {},
   "outputs": [
    {
     "data": {
      "text/plain": [
       "<p>\n",
       "            This is paragraph two\n",
       "        </p>"
      ]
     },
     "execution_count": 16,
     "metadata": {},
     "output_type": "execute_result"
    }
   ],
   "source": [
    "p_1[1]"
   ]
  },
  {
   "cell_type": "code",
   "execution_count": 17,
   "metadata": {},
   "outputs": [
    {
     "name": "stdout",
     "output_type": "stream",
     "text": [
      "This is paragraph two\n",
      "This is paragraph four of div with class para 1\n"
     ]
    }
   ],
   "source": [
    "for i in soup.find_all(\"div\",class_=\"para 1\"):\n",
    "    p=i.find_all(\"p\")\n",
    "    print(p[1].text.strip())"
   ]
  },
  {
   "cell_type": "code",
   "execution_count": 18,
   "metadata": {},
   "outputs": [],
   "source": [
    "paras=[]\n",
    "for i in soup.find_all(\"div\",class_=\"para 1\"):\n",
    "    p=i.find_all(\"p\")\n",
    "    paras.append(p[1].text.strip())"
   ]
  },
  {
   "cell_type": "code",
   "execution_count": 19,
   "metadata": {},
   "outputs": [
    {
     "data": {
      "text/plain": [
       "['This is paragraph two', 'This is paragraph four of div with class para 1']"
      ]
     },
     "execution_count": 19,
     "metadata": {},
     "output_type": "execute_result"
    }
   ],
   "source": [
    "paras"
   ]
  },
  {
   "cell_type": "markdown",
   "metadata": {},
   "source": [
    "### Fetch data from the servers:\n",
    "- Make a request to a page for its html\n",
    "- Simulate a full-browser and then fetch the html"
   ]
  },
  {
   "cell_type": "code",
   "execution_count": 20,
   "metadata": {},
   "outputs": [],
   "source": [
    "url=\"https://www.goodreads.com/quotes\""
   ]
  },
  {
   "cell_type": "code",
   "execution_count": 21,
   "metadata": {},
   "outputs": [],
   "source": [
    "import requests"
   ]
  },
  {
   "cell_type": "code",
   "execution_count": 22,
   "metadata": {},
   "outputs": [],
   "source": [
    "html=requests.get(url).text"
   ]
  },
  {
   "cell_type": "code",
   "execution_count": 23,
   "metadata": {},
   "outputs": [],
   "source": [
    "soup=BeautifulSoup(html,'html.parser')"
   ]
  },
  {
   "cell_type": "code",
   "execution_count": 24,
   "metadata": {},
   "outputs": [],
   "source": [
    "authors=[]\n",
    "for i in soup.find_all(\"span\",class_=\"authorOrTitle\"):\n",
    "    authors.append(i.text.strip())"
   ]
  },
  {
   "cell_type": "code",
   "execution_count": 25,
   "metadata": {},
   "outputs": [],
   "source": [
    "likes=[]\n",
    "for i in soup.find_all(\"a\",class_=\"smallText\"):\n",
    "    likes.append(i.text.split(\" \")[0])"
   ]
  },
  {
   "cell_type": "code",
   "execution_count": 26,
   "metadata": {},
   "outputs": [],
   "source": [
    "quotes=[]\n",
    "for i in soup.find_all(\"div\",class_=\"quoteText\"):\n",
    "    quotes.append(list(i.children)[0].strip())"
   ]
  },
  {
   "cell_type": "code",
   "execution_count": 27,
   "metadata": {},
   "outputs": [],
   "source": [
    "import pandas as pd"
   ]
  },
  {
   "cell_type": "code",
   "execution_count": 28,
   "metadata": {},
   "outputs": [],
   "source": [
    "table=pd.DataFrame({'author':authors,'likes':likes,'quotes':quotes})"
   ]
  },
  {
   "cell_type": "code",
   "execution_count": 29,
   "metadata": {},
   "outputs": [
    {
     "data": {
      "text/html": [
       "<div>\n",
       "<style scoped>\n",
       "    .dataframe tbody tr th:only-of-type {\n",
       "        vertical-align: middle;\n",
       "    }\n",
       "\n",
       "    .dataframe tbody tr th {\n",
       "        vertical-align: top;\n",
       "    }\n",
       "\n",
       "    .dataframe thead th {\n",
       "        text-align: right;\n",
       "    }\n",
       "</style>\n",
       "<table border=\"1\" class=\"dataframe\">\n",
       "  <thead>\n",
       "    <tr style=\"text-align: right;\">\n",
       "      <th></th>\n",
       "      <th>author</th>\n",
       "      <th>likes</th>\n",
       "      <th>quotes</th>\n",
       "    </tr>\n",
       "  </thead>\n",
       "  <tbody>\n",
       "    <tr>\n",
       "      <th>0</th>\n",
       "      <td>Marilyn Monroe</td>\n",
       "      <td>148738</td>\n",
       "      <td>“I'm selfish, impatient and a little insecure....</td>\n",
       "    </tr>\n",
       "    <tr>\n",
       "      <th>1</th>\n",
       "      <td>Oscar Wilde</td>\n",
       "      <td>146602</td>\n",
       "      <td>“Be yourself; everyone else is already taken.”</td>\n",
       "    </tr>\n",
       "    <tr>\n",
       "      <th>2</th>\n",
       "      <td>Albert Einstein</td>\n",
       "      <td>130137</td>\n",
       "      <td>“Two things are infinite: the universe and hum...</td>\n",
       "    </tr>\n",
       "    <tr>\n",
       "      <th>3</th>\n",
       "      <td>Frank Zappa</td>\n",
       "      <td>125607</td>\n",
       "      <td>“So many books, so little time.”</td>\n",
       "    </tr>\n",
       "    <tr>\n",
       "      <th>4</th>\n",
       "      <td>Bernard M. Baruch</td>\n",
       "      <td>119827</td>\n",
       "      <td>“Be who you are and say what you feel, because...</td>\n",
       "    </tr>\n",
       "    <tr>\n",
       "      <th>5</th>\n",
       "      <td>Marcus Tullius Cicero</td>\n",
       "      <td>118859</td>\n",
       "      <td>“A room without books is like a body without a...</td>\n",
       "    </tr>\n",
       "    <tr>\n",
       "      <th>6</th>\n",
       "      <td>William W. Purkey</td>\n",
       "      <td>117585</td>\n",
       "      <td>“You've gotta dance like there's nobody watching,</td>\n",
       "    </tr>\n",
       "    <tr>\n",
       "      <th>7</th>\n",
       "      <td>Dr. Seuss</td>\n",
       "      <td>114217</td>\n",
       "      <td>“You know you're in love when you can't fall a...</td>\n",
       "    </tr>\n",
       "    <tr>\n",
       "      <th>8</th>\n",
       "      <td>Mae West</td>\n",
       "      <td>106955</td>\n",
       "      <td>“You only live once, but if you do it right, o...</td>\n",
       "    </tr>\n",
       "    <tr>\n",
       "      <th>9</th>\n",
       "      <td>Mahatma Gandhi</td>\n",
       "      <td>105415</td>\n",
       "      <td>“Be the change that you wish to see in the wor...</td>\n",
       "    </tr>\n",
       "    <tr>\n",
       "      <th>10</th>\n",
       "      <td>Robert Frost</td>\n",
       "      <td>99458</td>\n",
       "      <td>“In three words I can sum up everything I've l...</td>\n",
       "    </tr>\n",
       "    <tr>\n",
       "      <th>11</th>\n",
       "      <td>J.K. Rowling,</td>\n",
       "      <td>95207</td>\n",
       "      <td>“If you want to know what a man's like, take a...</td>\n",
       "    </tr>\n",
       "    <tr>\n",
       "      <th>12</th>\n",
       "      <td>Albert Camus</td>\n",
       "      <td>85110</td>\n",
       "      <td>“Don’t walk in front of me… I may not follow</td>\n",
       "    </tr>\n",
       "    <tr>\n",
       "      <th>13</th>\n",
       "      <td>Eleanor Roosevelt,</td>\n",
       "      <td>84594</td>\n",
       "      <td>“No one can make you feel inferior without you...</td>\n",
       "    </tr>\n",
       "    <tr>\n",
       "      <th>14</th>\n",
       "      <td>C.S. Lewis,</td>\n",
       "      <td>83699</td>\n",
       "      <td>“Friendship ... is born at the moment when one...</td>\n",
       "    </tr>\n",
       "    <tr>\n",
       "      <th>15</th>\n",
       "      <td>Mark Twain</td>\n",
       "      <td>83237</td>\n",
       "      <td>“If you tell the truth, you don't have to reme...</td>\n",
       "    </tr>\n",
       "    <tr>\n",
       "      <th>16</th>\n",
       "      <td>Maya Angelou</td>\n",
       "      <td>78194</td>\n",
       "      <td>“I've learned that people will forget what you...</td>\n",
       "    </tr>\n",
       "    <tr>\n",
       "      <th>17</th>\n",
       "      <td>Elbert Hubbard</td>\n",
       "      <td>78035</td>\n",
       "      <td>“A friend is someone who knows all about you a...</td>\n",
       "    </tr>\n",
       "    <tr>\n",
       "      <th>18</th>\n",
       "      <td>Oscar Wilde</td>\n",
       "      <td>74940</td>\n",
       "      <td>“Always forgive your enemies; nothing annoys t...</td>\n",
       "    </tr>\n",
       "    <tr>\n",
       "      <th>19</th>\n",
       "      <td>Oscar Wilde</td>\n",
       "      <td>73008</td>\n",
       "      <td>“To live is the rarest thing in the world. Mos...</td>\n",
       "    </tr>\n",
       "  </tbody>\n",
       "</table>\n",
       "</div>"
      ],
      "text/plain": [
       "                   author   likes  \\\n",
       "0          Marilyn Monroe  148738   \n",
       "1             Oscar Wilde  146602   \n",
       "2         Albert Einstein  130137   \n",
       "3             Frank Zappa  125607   \n",
       "4       Bernard M. Baruch  119827   \n",
       "5   Marcus Tullius Cicero  118859   \n",
       "6       William W. Purkey  117585   \n",
       "7               Dr. Seuss  114217   \n",
       "8                Mae West  106955   \n",
       "9          Mahatma Gandhi  105415   \n",
       "10           Robert Frost   99458   \n",
       "11          J.K. Rowling,   95207   \n",
       "12           Albert Camus   85110   \n",
       "13     Eleanor Roosevelt,   84594   \n",
       "14            C.S. Lewis,   83699   \n",
       "15             Mark Twain   83237   \n",
       "16           Maya Angelou   78194   \n",
       "17         Elbert Hubbard   78035   \n",
       "18            Oscar Wilde   74940   \n",
       "19            Oscar Wilde   73008   \n",
       "\n",
       "                                               quotes  \n",
       "0   “I'm selfish, impatient and a little insecure....  \n",
       "1      “Be yourself; everyone else is already taken.”  \n",
       "2   “Two things are infinite: the universe and hum...  \n",
       "3                    “So many books, so little time.”  \n",
       "4   “Be who you are and say what you feel, because...  \n",
       "5   “A room without books is like a body without a...  \n",
       "6   “You've gotta dance like there's nobody watching,  \n",
       "7   “You know you're in love when you can't fall a...  \n",
       "8   “You only live once, but if you do it right, o...  \n",
       "9   “Be the change that you wish to see in the wor...  \n",
       "10  “In three words I can sum up everything I've l...  \n",
       "11  “If you want to know what a man's like, take a...  \n",
       "12       “Don’t walk in front of me… I may not follow  \n",
       "13  “No one can make you feel inferior without you...  \n",
       "14  “Friendship ... is born at the moment when one...  \n",
       "15  “If you tell the truth, you don't have to reme...  \n",
       "16  “I've learned that people will forget what you...  \n",
       "17  “A friend is someone who knows all about you a...  \n",
       "18  “Always forgive your enemies; nothing annoys t...  \n",
       "19  “To live is the rarest thing in the world. Mos...  "
      ]
     },
     "execution_count": 29,
     "metadata": {},
     "output_type": "execute_result"
    }
   ],
   "source": [
    "table.head(20)"
   ]
  },
  {
   "cell_type": "code",
   "execution_count": 30,
   "metadata": {},
   "outputs": [
    {
     "data": {
      "text/plain": [
       "<br>Love like you'll never be hurt,<br>Sing like there's nobody listening,<br>And live like it's heaven on earth.”\n",
       "  <br/>  ―\n",
       "  <span class=\"authorOrTitle\">\n",
       "    William W. Purkey\n",
       "  </span>\n",
       "</br></br></br>"
      ]
     },
     "execution_count": 30,
     "metadata": {},
     "output_type": "execute_result"
    }
   ],
   "source": [
    "list(soup.find_all(\"div\",class_=\"quoteText\")[6].children)[1]"
   ]
  },
  {
   "cell_type": "code",
   "execution_count": 31,
   "metadata": {},
   "outputs": [
    {
     "data": {
      "text/plain": [
       "\"\\n      “You've gotta dance like there's nobody watching,Love like you'll never be hurt,Sing like there's nobody listening,And live like it's heaven on earth.”\\n    \""
      ]
     },
     "execution_count": 31,
     "metadata": {},
     "output_type": "execute_result"
    }
   ],
   "source": [
    "soup.find_all(\"div\",class_=\"quoteText\")[6].text.split(\"―\")[0]"
   ]
  },
  {
   "cell_type": "code",
   "execution_count": 32,
   "metadata": {},
   "outputs": [
    {
     "data": {
      "text/plain": [
       "'https://www.goodreads.com/quotes?page=3'"
      ]
     },
     "execution_count": 32,
     "metadata": {},
     "output_type": "execute_result"
    }
   ],
   "source": [
    "base_url=\"https://www.goodreads.com/quotes?page={}\"\n",
    "base_url.format(3)\n"
   ]
  },
  {
   "cell_type": "code",
   "execution_count": 33,
   "metadata": {},
   "outputs": [],
   "source": [
    "def get_data(url):\n",
    "    html=requests.get(url).text\n",
    "    soup=BeautifulSoup(html,'html.parser')\n",
    "    authors=[]\n",
    "    for i in soup.find_all(\"span\",class_=\"authorOrTitle\"):\n",
    "        authors.append(i.text.strip())\n",
    "    likes=[]\n",
    "    for i in soup.find_all(\"a\",class_=\"smallText\"):\n",
    "        likes.append(i.text.split(\" \")[0])\n",
    "    quotes=[]\n",
    "    for i in soup.find_all(\"div\",class_=\"quoteText\"):\n",
    "        quotes.append(list(i.children)[0].strip())\n",
    "    table=pd.DataFrame({'author':authors,'likes':likes,'quotes':quotes})\n",
    "    return table"
   ]
  },
  {
   "cell_type": "code",
   "execution_count": 34,
   "metadata": {},
   "outputs": [
    {
     "name": "stdout",
     "output_type": "stream",
     "text": [
      "Fetching, https://www.goodreads.com/quotes?page=1\n",
      "..\n",
      "Fetching, https://www.goodreads.com/quotes?page=2\n",
      "..\n",
      "Fetching, https://www.goodreads.com/quotes?page=3\n",
      "..\n",
      "Fetching, https://www.goodreads.com/quotes?page=4\n",
      "..\n",
      "Fetching, https://www.goodreads.com/quotes?page=5\n",
      "..\n",
      "Fetching, https://www.goodreads.com/quotes?page=6\n",
      "..\n",
      "Fetching, https://www.goodreads.com/quotes?page=7\n",
      "..\n",
      "Fetching, https://www.goodreads.com/quotes?page=8\n",
      "..\n",
      "Fetching, https://www.goodreads.com/quotes?page=9\n",
      "..\n",
      "Fetching, https://www.goodreads.com/quotes?page=10\n",
      "..\n",
      "Fetching, https://www.goodreads.com/quotes?page=11\n",
      "..\n",
      "Fetching, https://www.goodreads.com/quotes?page=12\n",
      "..\n",
      "Fetching, https://www.goodreads.com/quotes?page=13\n",
      "..\n",
      "Fetching, https://www.goodreads.com/quotes?page=14\n",
      "..\n",
      "Fetching, https://www.goodreads.com/quotes?page=15\n",
      "..\n",
      "Fetching, https://www.goodreads.com/quotes?page=16\n",
      "..\n",
      "Fetching, https://www.goodreads.com/quotes?page=17\n",
      "..\n",
      "Fetching, https://www.goodreads.com/quotes?page=18\n",
      "..\n",
      "Fetching, https://www.goodreads.com/quotes?page=19\n",
      "..\n",
      "Fetching, https://www.goodreads.com/quotes?page=20\n",
      "..\n",
      "Fetching, https://www.goodreads.com/quotes?page=21\n",
      "..\n",
      "Fetching, https://www.goodreads.com/quotes?page=22\n",
      "..\n",
      "Fetching, https://www.goodreads.com/quotes?page=23\n",
      "..\n",
      "Fetching, https://www.goodreads.com/quotes?page=24\n",
      "..\n",
      "Fetching, https://www.goodreads.com/quotes?page=25\n",
      "..\n",
      "Fetching, https://www.goodreads.com/quotes?page=26\n",
      "..\n",
      "Fetching, https://www.goodreads.com/quotes?page=27\n",
      "..\n",
      "Fetching, https://www.goodreads.com/quotes?page=28\n",
      "..\n",
      "Fetching, https://www.goodreads.com/quotes?page=29\n",
      "..\n",
      "Fetching, https://www.goodreads.com/quotes?page=30\n",
      "..\n",
      "Fetching, https://www.goodreads.com/quotes?page=31\n",
      "..\n",
      "Fetching, https://www.goodreads.com/quotes?page=32\n",
      "..\n",
      "Fetching, https://www.goodreads.com/quotes?page=33\n",
      "..\n",
      "Fetching, https://www.goodreads.com/quotes?page=34\n",
      "..\n",
      "Fetching, https://www.goodreads.com/quotes?page=35\n",
      "..\n",
      "Fetching, https://www.goodreads.com/quotes?page=36\n",
      "..\n",
      "Fetching, https://www.goodreads.com/quotes?page=37\n",
      "..\n",
      "Fetching, https://www.goodreads.com/quotes?page=38\n",
      "..\n",
      "Fetching, https://www.goodreads.com/quotes?page=39\n",
      "..\n",
      "Fetching, https://www.goodreads.com/quotes?page=40\n",
      "..\n",
      "Fetching, https://www.goodreads.com/quotes?page=41\n",
      "..\n",
      "Fetching, https://www.goodreads.com/quotes?page=42\n",
      "..\n",
      "Fetching, https://www.goodreads.com/quotes?page=43\n",
      "..\n",
      "Fetching, https://www.goodreads.com/quotes?page=44\n",
      "..\n",
      "Fetching, https://www.goodreads.com/quotes?page=45\n",
      "..\n",
      "Fetching, https://www.goodreads.com/quotes?page=46\n",
      "..\n",
      "Fetching, https://www.goodreads.com/quotes?page=47\n",
      "..\n",
      "Fetching, https://www.goodreads.com/quotes?page=48\n",
      "..\n",
      "Fetching, https://www.goodreads.com/quotes?page=49\n",
      "..\n",
      "Fetching, https://www.goodreads.com/quotes?page=50\n",
      "..\n",
      "Fetching, https://www.goodreads.com/quotes?page=51\n",
      "..\n",
      "Fetching, https://www.goodreads.com/quotes?page=52\n",
      "..\n",
      "Fetching, https://www.goodreads.com/quotes?page=53\n",
      "..\n",
      "Fetching, https://www.goodreads.com/quotes?page=54\n",
      "..\n",
      "Fetching, https://www.goodreads.com/quotes?page=55\n",
      "..\n",
      "Fetching, https://www.goodreads.com/quotes?page=56\n",
      "..\n",
      "Fetching, https://www.goodreads.com/quotes?page=57\n",
      "..\n",
      "Fetching, https://www.goodreads.com/quotes?page=58\n",
      "..\n",
      "Fetching, https://www.goodreads.com/quotes?page=59\n",
      "..\n",
      "Fetching, https://www.goodreads.com/quotes?page=60\n",
      "..\n",
      "Fetching, https://www.goodreads.com/quotes?page=61\n",
      "..\n",
      "Fetching, https://www.goodreads.com/quotes?page=62\n",
      "..\n",
      "Fetching, https://www.goodreads.com/quotes?page=63\n",
      "..\n",
      "Fetching, https://www.goodreads.com/quotes?page=64\n",
      "..\n",
      "Fetching, https://www.goodreads.com/quotes?page=65\n",
      "..\n",
      "Fetching, https://www.goodreads.com/quotes?page=66\n",
      "..\n",
      "Fetching, https://www.goodreads.com/quotes?page=67\n",
      "..\n",
      "Fetching, https://www.goodreads.com/quotes?page=68\n",
      "..\n",
      "Fetching, https://www.goodreads.com/quotes?page=69\n",
      "..\n",
      "Fetching, https://www.goodreads.com/quotes?page=70\n",
      "..\n",
      "Fetching, https://www.goodreads.com/quotes?page=71\n",
      "..\n",
      "Fetching, https://www.goodreads.com/quotes?page=72\n",
      "..\n",
      "Fetching, https://www.goodreads.com/quotes?page=73\n",
      "..\n",
      "Fetching, https://www.goodreads.com/quotes?page=74\n",
      "..\n",
      "Fetching, https://www.goodreads.com/quotes?page=75\n",
      "..\n",
      "Fetching, https://www.goodreads.com/quotes?page=76\n",
      "..\n",
      "Fetching, https://www.goodreads.com/quotes?page=77\n",
      "..\n",
      "Fetching, https://www.goodreads.com/quotes?page=78\n",
      "..\n",
      "Fetching, https://www.goodreads.com/quotes?page=79\n",
      "..\n",
      "Fetching, https://www.goodreads.com/quotes?page=80\n",
      "..\n",
      "Fetching, https://www.goodreads.com/quotes?page=81\n",
      "..\n",
      "Fetching, https://www.goodreads.com/quotes?page=82\n",
      "..\n",
      "Fetching, https://www.goodreads.com/quotes?page=83\n",
      "..\n",
      "Fetching, https://www.goodreads.com/quotes?page=84\n",
      "..\n",
      "Fetching, https://www.goodreads.com/quotes?page=85\n",
      "..\n",
      "Fetching, https://www.goodreads.com/quotes?page=86\n",
      "..\n",
      "Fetching, https://www.goodreads.com/quotes?page=87\n",
      "..\n",
      "Fetching, https://www.goodreads.com/quotes?page=88\n",
      "..\n",
      "Fetching, https://www.goodreads.com/quotes?page=89\n",
      "..\n",
      "Fetching, https://www.goodreads.com/quotes?page=90\n",
      "..\n",
      "Fetching, https://www.goodreads.com/quotes?page=91\n",
      "..\n",
      "Fetching, https://www.goodreads.com/quotes?page=92\n",
      "..\n",
      "Fetching, https://www.goodreads.com/quotes?page=93\n",
      "..\n",
      "Fetching, https://www.goodreads.com/quotes?page=94\n",
      "..\n",
      "Fetching, https://www.goodreads.com/quotes?page=95\n",
      "..\n",
      "Fetching, https://www.goodreads.com/quotes?page=96\n",
      "..\n",
      "Fetching, https://www.goodreads.com/quotes?page=97\n",
      "..\n",
      "Fetching, https://www.goodreads.com/quotes?page=98\n",
      "..\n",
      "Fetching, https://www.goodreads.com/quotes?page=99\n",
      "..\n",
      "Fetching, https://www.goodreads.com/quotes?page=100\n",
      "..\n"
     ]
    }
   ],
   "source": [
    "tables={}\n",
    "for i in range(1,101):\n",
    "    url=base_url.format(i)\n",
    "    print(\"Fetching, {}\".format(url))\n",
    "    print(\"..\")\n",
    "    tables[i]=get_data(url)"
   ]
  },
  {
   "cell_type": "code",
   "execution_count": 35,
   "metadata": {},
   "outputs": [],
   "source": [
    "url=\"https://www.goodreads.com/list/show/19.Best_for_Book_Clubs\""
   ]
  },
  {
   "cell_type": "code",
   "execution_count": 36,
   "metadata": {},
   "outputs": [],
   "source": [
    "### Create logic for a single page\n",
    "html=requests.get(url).text"
   ]
  },
  {
   "cell_type": "code",
   "execution_count": 38,
   "metadata": {},
   "outputs": [],
   "source": [
    "soup=BeautifulSoup(html,'html.parser')"
   ]
  },
  {
   "cell_type": "code",
   "execution_count": 39,
   "metadata": {},
   "outputs": [
    {
     "data": {
      "text/plain": [
       "'The Help'"
      ]
     },
     "execution_count": 39,
     "metadata": {},
     "output_type": "execute_result"
    }
   ],
   "source": [
    "soup.find_all(\"a\",class_=\"bookTitle\")[0].span.text"
   ]
  },
  {
   "cell_type": "code",
   "execution_count": 40,
   "metadata": {},
   "outputs": [],
   "source": [
    "title=[]\n",
    "for i in soup.find_all(\"a\",class_=\"bookTitle\"):\n",
    "    title.append(i.span.text)"
   ]
  },
  {
   "cell_type": "code",
   "execution_count": 41,
   "metadata": {},
   "outputs": [],
   "source": [
    "author=[]\n",
    "for i in soup.find_all(\"a\",class_=\"authorName\"):\n",
    "    author.append(i.span.text)"
   ]
  },
  {
   "cell_type": "code",
   "execution_count": 42,
   "metadata": {},
   "outputs": [],
   "source": [
    "import re"
   ]
  },
  {
   "cell_type": "code",
   "execution_count": 43,
   "metadata": {},
   "outputs": [],
   "source": [
    "pattern=re.compile(r'\\d\\.\\d{2}')"
   ]
  },
  {
   "cell_type": "code",
   "execution_count": 44,
   "metadata": {},
   "outputs": [],
   "source": [
    "rating=[]\n",
    "for i in soup.find_all(\"span\",class_=\"minirating\"):\n",
    "    rating.append(re.findall(pattern,i.text)[0])"
   ]
  },
  {
   "cell_type": "code",
   "execution_count": 45,
   "metadata": {},
   "outputs": [],
   "source": [
    "def get_data(url):\n",
    "    html=requests.get(url).text\n",
    "    soup=BeautifulSoup(html,'html.parser')\n",
    "    title=[]\n",
    "    for i in soup.find_all(\"a\",class_=\"bookTitle\"):\n",
    "        title.append(i.span.text)\n",
    "    author=[]\n",
    "    for i in soup.find_all(\"a\",class_=\"authorName\"):\n",
    "        author.append(i.span.text)\n",
    "    rating=[]\n",
    "    for i in soup.find_all(\"span\",class_=\"minirating\"):\n",
    "        rating.append(re.findall(pattern,i.text)[0])\n",
    "    table=pd.DataFrame({'title':title,'author':author,\\\n",
    "                        'rating':rating})\n",
    "    return table"
   ]
  },
  {
   "cell_type": "code",
   "execution_count": 46,
   "metadata": {},
   "outputs": [],
   "source": [
    "url=\"https://www.goodreads.com/list/show/19.Best_for_Book_Clubs?page=3\"\n",
    "#get_data(url)"
   ]
  },
  {
   "cell_type": "code",
   "execution_count": 47,
   "metadata": {},
   "outputs": [],
   "source": [
    "base_url=\"https://www.goodreads.com/list/show/19.Best_for_Book_Clubs?page={}\""
   ]
  },
  {
   "cell_type": "code",
   "execution_count": 48,
   "metadata": {},
   "outputs": [
    {
     "name": "stderr",
     "output_type": "stream",
     "text": [
      "100%|██████████████████████████████████████████████████████████████████████████████████| 30/30 [04:55<00:00, 12.57s/it]\n"
     ]
    }
   ],
   "source": [
    "from tqdm import tqdm\n",
    "tables=[]\n",
    "for i in tqdm(range(1,31)):\n",
    "    url=base_url.format(i)\n",
    "    tables.append(get_data(url))"
   ]
  },
  {
   "cell_type": "code",
   "execution_count": 49,
   "metadata": {},
   "outputs": [],
   "source": [
    "big_table=pd.concat(tables,axis=0)"
   ]
  },
  {
   "cell_type": "code",
   "execution_count": 50,
   "metadata": {},
   "outputs": [],
   "source": [
    "url=\"https://www.naukri.com/data-science-jobs\""
   ]
  },
  {
   "cell_type": "code",
   "execution_count": 51,
   "metadata": {},
   "outputs": [],
   "source": [
    "html=requests.get(url).text"
   ]
  },
  {
   "cell_type": "code",
   "execution_count": 52,
   "metadata": {},
   "outputs": [
    {
     "name": "stdout",
     "output_type": "stream",
     "text": [
      "<HTML><HEAD>\n",
      "<TITLE>Access Denied</TITLE>\n",
      "</HEAD><BODY>\n",
      "<H1>Access Denied</H1>\n",
      " \n",
      "You don't have permission to access \"http&#58;&#47;&#47;www&#46;naukri&#46;com&#47;data&#45;science&#45;jobs\" on this server.<P>\n",
      "Reference&#32;&#35;18&#46;8e7c4117&#46;1571200518&#46;465244ae\n",
      "</BODY>\n",
      "</HTML>\n",
      "\n"
     ]
    }
   ],
   "source": [
    "print(html)"
   ]
  },
  {
   "cell_type": "code",
   "execution_count": 53,
   "metadata": {},
   "outputs": [],
   "source": [
    "#!pip install selenium"
   ]
  },
  {
   "cell_type": "code",
   "execution_count": 67,
   "metadata": {},
   "outputs": [],
   "source": [
    "#Do this everytime you need to use selenium in windows\n",
    "import os\n",
    "from selenium import webdriver\n",
    "path=r\"D:\\pgp manipal\\chromedriver_win32\"\n",
    "os.chdir(path)\n",
    "browser=webdriver.Chrome()"
   ]
  },
  {
   "cell_type": "code",
   "execution_count": null,
   "metadata": {},
   "outputs": [],
   "source": [
    "from selenium import webdriver\n",
    "browser=webdriver.Firefox()"
   ]
  },
  {
   "cell_type": "code",
   "execution_count": 69,
   "metadata": {},
   "outputs": [],
   "source": [
    "url=\"https://www.naukri.com/data-science-jobs\""
   ]
  },
  {
   "cell_type": "code",
   "execution_count": 70,
   "metadata": {},
   "outputs": [],
   "source": [
    "browser.get(url)"
   ]
  },
  {
   "cell_type": "code",
   "execution_count": 71,
   "metadata": {},
   "outputs": [],
   "source": [
    "html=browser.page_source"
   ]
  },
  {
   "cell_type": "code",
   "execution_count": 72,
   "metadata": {},
   "outputs": [],
   "source": [
    "soup=BeautifulSoup(html,'html.parser')"
   ]
  },
  {
   "cell_type": "code",
   "execution_count": 73,
   "metadata": {},
   "outputs": [
    {
     "data": {
      "text/plain": [
       "'Require Corporate Python Trainer'"
      ]
     },
     "execution_count": 73,
     "metadata": {},
     "output_type": "execute_result"
    }
   ],
   "source": [
    "### title\n",
    "soup.find_all(\"li\",class_=\"desig\")[0].a.text"
   ]
  },
  {
   "cell_type": "code",
   "execution_count": 74,
   "metadata": {},
   "outputs": [],
   "source": [
    "title=[]\n",
    "for i in soup.find_all(\"li\",class_=\"desig\"):\n",
    "    title.append(i.a.text)"
   ]
  },
  {
   "cell_type": "code",
   "execution_count": 75,
   "metadata": {},
   "outputs": [],
   "source": [
    "org=[]\n",
    "for i in soup.find_all(\"span\",class_=\"org\"):\n",
    "    org.append(i.text)"
   ]
  },
  {
   "cell_type": "code",
   "execution_count": 76,
   "metadata": {},
   "outputs": [],
   "source": [
    "exp=[]\n",
    "for i in soup.find_all(\"span\",class_=\"exp\"):\n",
    "    exp.append(i.text)"
   ]
  },
  {
   "cell_type": "code",
   "execution_count": 77,
   "metadata": {},
   "outputs": [],
   "source": [
    "sal=[]\n",
    "for i in soup.find_all(\"span\",class_=\"salary\"):\n",
    "    sal.append(i.text.strip())"
   ]
  },
  {
   "cell_type": "code",
   "execution_count": 78,
   "metadata": {},
   "outputs": [],
   "source": [
    "table=pd.DataFrame({'title':title,'org':org,'exp':exp,'sal':sal})"
   ]
  },
  {
   "cell_type": "code",
   "execution_count": 79,
   "metadata": {},
   "outputs": [],
   "source": [
    "btns=browser.find_elements_by_class_name(\"grayBtn\")"
   ]
  },
  {
   "cell_type": "code",
   "execution_count": 80,
   "metadata": {},
   "outputs": [
    {
     "data": {
      "text/plain": [
       "1"
      ]
     },
     "execution_count": 80,
     "metadata": {},
     "output_type": "execute_result"
    }
   ],
   "source": [
    "len(btns)"
   ]
  },
  {
   "cell_type": "code",
   "execution_count": 81,
   "metadata": {},
   "outputs": [],
   "source": [
    "btns[0].click()"
   ]
  },
  {
   "cell_type": "code",
   "execution_count": 82,
   "metadata": {},
   "outputs": [],
   "source": [
    "btns=browser.find_elements_by_class_name(\"grayBtn\")"
   ]
  },
  {
   "cell_type": "code",
   "execution_count": 83,
   "metadata": {},
   "outputs": [
    {
     "data": {
      "text/plain": [
       "2"
      ]
     },
     "execution_count": 83,
     "metadata": {},
     "output_type": "execute_result"
    }
   ],
   "source": [
    "len(btns)"
   ]
  },
  {
   "cell_type": "code",
   "execution_count": 84,
   "metadata": {},
   "outputs": [
    {
     "data": {
      "text/plain": [
       "'Previous'"
      ]
     },
     "execution_count": 84,
     "metadata": {},
     "output_type": "execute_result"
    }
   ],
   "source": [
    "btns[0].text"
   ]
  },
  {
   "cell_type": "code",
   "execution_count": 85,
   "metadata": {},
   "outputs": [
    {
     "data": {
      "text/plain": [
       "'Next'"
      ]
     },
     "execution_count": 85,
     "metadata": {},
     "output_type": "execute_result"
    }
   ],
   "source": [
    "btns[1].text"
   ]
  },
  {
   "cell_type": "code",
   "execution_count": 86,
   "metadata": {},
   "outputs": [],
   "source": [
    "btns[1].click()"
   ]
  },
  {
   "cell_type": "code",
   "execution_count": 87,
   "metadata": {},
   "outputs": [],
   "source": [
    "#https://www.naukri.com/data-science-jobs-3"
   ]
  },
  {
   "cell_type": "code",
   "execution_count": 88,
   "metadata": {},
   "outputs": [],
   "source": [
    "url=\"https://www.naukri.com/data-science-jobs\""
   ]
  },
  {
   "cell_type": "code",
   "execution_count": 89,
   "metadata": {},
   "outputs": [],
   "source": [
    "browser.get(url)"
   ]
  },
  {
   "cell_type": "code",
   "execution_count": 90,
   "metadata": {},
   "outputs": [],
   "source": [
    "btns=browser.find_elements_by_class_name(\"grayBtn\")"
   ]
  },
  {
   "cell_type": "code",
   "execution_count": 91,
   "metadata": {},
   "outputs": [],
   "source": [
    "btns[0].click()"
   ]
  },
  {
   "cell_type": "code",
   "execution_count": 92,
   "metadata": {},
   "outputs": [],
   "source": [
    "for i in range(1,3):\n",
    "    btns=browser.find_elements_by_class_name(\"grayBtn\")\n",
    "    for btn in btns:\n",
    "        if btn.text==\"Next\":\n",
    "            btn.click()"
   ]
  },
  {
   "cell_type": "code",
   "execution_count": 136,
   "metadata": {},
   "outputs": [],
   "source": [
    "## def get_data(soup):\n",
    "#    .....\n",
    "#    return table\n",
    "# for i in range(1,3):\n",
    "#   html=browser.page_source\n",
    "#   soup\n",
    "#   tables=get_data(soup)"
   ]
  },
  {
   "cell_type": "code",
   "execution_count": 137,
   "metadata": {},
   "outputs": [],
   "source": [
    "#### Create a function that uses html/soup to generate table\n",
    "def get_data(html):\n",
    "    soup=BeautifulSoup(html,'html.parser')\n",
    "    title=[]\n",
    "    for i in soup.find_all(\"li\",class_=\"desig\"):\n",
    "        title.append(i.a.text)\n",
    "    org=[]\n",
    "    for i in soup.find_all(\"span\",class_=\"org\"):\n",
    "        org.append(i.text)\n",
    "    exp=[]\n",
    "    for i in soup.find_all(\"span\",class_=\"exp\"):\n",
    "        exp.append(i.text)\n",
    "    sal=[]\n",
    "    for i in soup.find_all(\"span\",class_=\"salary\"):\n",
    "        sal.append(i.text.strip())\n",
    "    table=pd.DataFrame({'title':title,'org':org,'exp':exp,'sal':sal})\n",
    "    return table"
   ]
  },
  {
   "cell_type": "code",
   "execution_count": 138,
   "metadata": {},
   "outputs": [],
   "source": [
    "tables=[]\n",
    "url=\"https://www.naukri.com/data-science-jobs\"\n",
    "browser.get(url)\n",
    "html=browser.page_source\n",
    "tables.append(get_data(html))\n",
    "btns=browser.find_elements_by_class_name(\"grayBtn\")\n",
    "btns[0].click()\n",
    "for i in range(1,3):\n",
    "    html=browser.page_source\n",
    "    tables.append(get_data(html))\n",
    "    btns=browser.find_elements_by_class_name(\"grayBtn\")\n",
    "    for btn in btns:\n",
    "        if btn.text==\"Next\":\n",
    "            btn.click()"
   ]
  },
  {
   "cell_type": "code",
   "execution_count": 144,
   "metadata": {},
   "outputs": [],
   "source": [
    "big_table=pd.concat(tables,axis=0)"
   ]
  },
  {
   "cell_type": "code",
   "execution_count": 150,
   "metadata": {},
   "outputs": [
    {
     "data": {
      "text/plain": [
       "4.73"
      ]
     },
     "execution_count": 150,
     "metadata": {},
     "output_type": "execute_result"
    }
   ],
   "source": [
    "big_table['exp'].map(lambda x:x.split(\"-\")[0]).astype(\"float\").mean().round(2)"
   ]
  },
  {
   "cell_type": "code",
   "execution_count": 155,
   "metadata": {},
   "outputs": [
    {
     "data": {
      "text/plain": [
       "8.88"
      ]
     },
     "execution_count": 155,
     "metadata": {},
     "output_type": "execute_result"
    }
   ],
   "source": [
    "big_table['exp'].map(lambda x:x.split(\"-\")[1].replace(\"yrs\",\"\")).astype(\"float\").mean()"
   ]
  },
  {
   "cell_type": "code",
   "execution_count": null,
   "metadata": {},
   "outputs": [],
   "source": []
  }
 ],
 "metadata": {
  "kernelspec": {
   "display_name": "Python 3",
   "language": "python",
   "name": "python3"
  },
  "language_info": {
   "codemirror_mode": {
    "name": "ipython",
    "version": 3
   },
   "file_extension": ".py",
   "mimetype": "text/x-python",
   "name": "python",
   "nbconvert_exporter": "python",
   "pygments_lexer": "ipython3",
   "version": "3.7.3"
  }
 },
 "nbformat": 4,
 "nbformat_minor": 2
}
