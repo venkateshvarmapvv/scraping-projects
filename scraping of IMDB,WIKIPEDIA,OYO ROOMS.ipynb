{
 "cells": [
  {
   "cell_type": "code",
   "execution_count": null,
   "metadata": {},
   "outputs": [],
   "source": [
    "from selenium import webdriver\n",
    "from bs4 import BeautifulSoup\n",
    "import pandas as pd\n",
    "url=\"https://www.imdb.com/chart/toptv/?ref_=nv_tvv_250\""
   ]
  },
  {
   "cell_type": "code",
   "execution_count": null,
   "metadata": {},
   "outputs": [],
   "source": [
    "import os\n",
    "from selenium import webdriver\n",
    "path=r\"D:\\pgp manipal\\chromedriver_win32\"\n",
    "os.chdir(path)\n",
    "browser=webdriver.Chrome()\n",
    "### Create a browser instance"
   ]
  },
  {
   "cell_type": "code",
   "execution_count": null,
   "metadata": {},
   "outputs": [],
   "source": [
    "browser.get(url)"
   ]
  },
  {
   "cell_type": "code",
   "execution_count": null,
   "metadata": {},
   "outputs": [],
   "source": [
    "### Get the table tag and create a list of rows\n",
    "html=browser.page_source\n",
    "soup=BeautifulSoup(html,'html.parser')\n",
    "table=soup.find_all(\"table\",class_=\"chart full-width\")"
   ]
  },
  {
   "cell_type": "code",
   "execution_count": null,
   "metadata": {},
   "outputs": [],
   "source": [
    "type(table)"
   ]
  },
  {
   "cell_type": "code",
   "execution_count": null,
   "metadata": {},
   "outputs": [],
   "source": [
    "type(table[0])"
   ]
  },
  {
   "cell_type": "code",
   "execution_count": null,
   "metadata": {},
   "outputs": [],
   "source": [
    "rows=table[0].find_all(\"tr\")"
   ]
  },
  {
   "cell_type": "code",
   "execution_count": null,
   "metadata": {},
   "outputs": [],
   "source": [
    "type(rows)"
   ]
  },
  {
   "cell_type": "code",
   "execution_count": null,
   "metadata": {},
   "outputs": [],
   "source": [
    "len(rows)"
   ]
  },
  {
   "cell_type": "code",
   "execution_count": null,
   "metadata": {},
   "outputs": [],
   "source": [
    "rel_rows=rows[1:]"
   ]
  },
  {
   "cell_type": "code",
   "execution_count": null,
   "metadata": {},
   "outputs": [],
   "source": [
    "rel_rows[0].find_all(\"td\")[1].a.text"
   ]
  },
  {
   "cell_type": "code",
   "execution_count": null,
   "metadata": {},
   "outputs": [],
   "source": [
    "rel_rows[0].find_all(\"td\")[1].span.text"
   ]
  },
  {
   "cell_type": "code",
   "execution_count": null,
   "metadata": {},
   "outputs": [],
   "source": [
    "rel_rows[0].find_all(\"td\")[2].strong.get(\"title\")"
   ]
  },
  {
   "cell_type": "code",
   "execution_count": null,
   "metadata": {},
   "outputs": [],
   "source": [
    "title=[]\n",
    "year=[]\n",
    "rating=[]\n",
    "for r in rel_rows:\n",
    "    tds=r.find_all(\"td\")\n",
    "    title.append(tds[1].a.text)\n",
    "    year.append(tds[1].span.text)\n",
    "    rating.append(tds[2].strong.text)"
   ]
  },
  {
   "cell_type": "code",
   "execution_count": null,
   "metadata": {},
   "outputs": [],
   "source": [
    "table=pd.DataFrame({'title':title,'year':year,'rating':rating})"
   ]
  },
  {
   "cell_type": "code",
   "execution_count": null,
   "metadata": {},
   "outputs": [],
   "source": [
    "table.head(2)"
   ]
  },
  {
   "cell_type": "code",
   "execution_count": null,
   "metadata": {},
   "outputs": [],
   "source": [
    "url=\"https://en.wikipedia.org/wiki/List_of_terrorist_incidents_in_August_2019\""
   ]
  },
  {
   "cell_type": "code",
   "execution_count": null,
   "metadata": {},
   "outputs": [],
   "source": [
    "browser.get(url)"
   ]
  },
  {
   "cell_type": "code",
   "execution_count": null,
   "metadata": {},
   "outputs": [],
   "source": [
    "html=browser.page_source\n",
    "soup=BeautifulSoup(html,'html.parser')"
   ]
  },
  {
   "cell_type": "code",
   "execution_count": null,
   "metadata": {},
   "outputs": [],
   "source": [
    "table=soup.find_all(\"table\",class_=\"wikitable sortable jquery-tablesorter\")"
   ]
  },
  {
   "cell_type": "code",
   "execution_count": null,
   "metadata": {},
   "outputs": [],
   "source": [
    "len(table)"
   ]
  },
  {
   "cell_type": "code",
   "execution_count": null,
   "metadata": {},
   "outputs": [],
   "source": [
    "rows=table[0].find_all(\"tr\")"
   ]
  },
  {
   "cell_type": "code",
   "execution_count": null,
   "metadata": {},
   "outputs": [],
   "source": [
    "rel_rows=rows[1:]"
   ]
  },
  {
   "cell_type": "code",
   "execution_count": null,
   "metadata": {},
   "outputs": [],
   "source": [
    "date=[]\n",
    "typ=[]\n",
    "dead=[]\n",
    "inj=[]\n",
    "location=[]\n",
    "details=[]\n",
    "perp=[]\n",
    "partof=[]\n",
    "for r in rel_rows:\n",
    "    tds=r.find_all(\"td\")\n",
    "    date.append(tds[0].text.strip())\n",
    "    typ.append(tds[1].text.strip())\n",
    "    dead.append(tds[2].text.strip())\n",
    "    inj.append(tds[3].text.strip())\n",
    "    location.append(tds[4].text.strip())\n",
    "    details.append(tds[5].text.strip())\n",
    "    perp.append(tds[6].text.strip())\n",
    "    partof.append(tds[7].text.strip())"
   ]
  },
  {
   "cell_type": "code",
   "execution_count": null,
   "metadata": {},
   "outputs": [],
   "source": [
    "len(partof)"
   ]
  },
  {
   "cell_type": "code",
   "execution_count": null,
   "metadata": {},
   "outputs": [],
   "source": [
    "table=pd.DataFrame({'date':date,'type':typ,'dead':dead,'injured':inj,\\\n",
    "                    'location':location,'details':details,\\\n",
    "                   'perpetrator':perp,'partof':partof})"
   ]
  },
  {
   "cell_type": "code",
   "execution_count": null,
   "metadata": {},
   "outputs": [],
   "source": [
    "table.head(1)"
   ]
  },
  {
   "cell_type": "code",
   "execution_count": null,
   "metadata": {},
   "outputs": [],
   "source": [
    "def get_data(url):\n",
    "    browser.get(url)\n",
    "    html=browser.page_source\n",
    "    soup=BeautifulSoup(html,'html.parser')\n",
    "    table=soup.find_all(\"table\",class_=\"wikitable\")\n",
    "    rows=table[0].find_all(\"tr\")\n",
    "    rel_rows=rows[1:]\n",
    "    date=[]\n",
    "    typ=[]\n",
    "    dead=[]\n",
    "    inj=[]\n",
    "    location=[]\n",
    "    details=[]\n",
    "    perp=[]\n",
    "    partof=[]\n",
    "    for r in rel_rows:\n",
    "        tds=r.find_all(\"td\")\n",
    "        date.append(tds[0].text.strip())\n",
    "        typ.append(tds[1].text.strip())\n",
    "        dead.append(tds[2].text.strip())\n",
    "        inj.append(tds[3].text.strip())\n",
    "        location.append(tds[4].text.strip())\n",
    "        details.append(tds[5].text.strip())\n",
    "        perp.append(tds[6].text.strip())\n",
    "        try:\n",
    "            partof.append(tds[7].text.strip())\n",
    "        except:\n",
    "            partof.append(\"Not found\")\n",
    "    table=pd.DataFrame({'date':date,'type':typ,'dead':dead,'injured':inj,\\\n",
    "                    'location':location,'details':details,\\\n",
    "                   'perpetrator':perp,'partof':partof})\n",
    "    table['url']=url\n",
    "    return table"
   ]
  },
  {
   "cell_type": "code",
   "execution_count": null,
   "metadata": {},
   "outputs": [],
   "source": [
    "get_data(\"https://en.wikipedia.org/wiki/List_of_terrorist_incidents_in_August_2019\")"
   ]
  },
  {
   "cell_type": "code",
   "execution_count": null,
   "metadata": {},
   "outputs": [],
   "source": [
    "url=\"https://en.wikipedia.org/wiki/List_of_terrorist_incidents\"\n",
    "browser.get(url)"
   ]
  },
  {
   "cell_type": "code",
   "execution_count": null,
   "metadata": {},
   "outputs": [],
   "source": [
    "html=browser.page_source\n",
    "soup=BeautifulSoup(html,'html.parser')"
   ]
  },
  {
   "cell_type": "code",
   "execution_count": null,
   "metadata": {},
   "outputs": [],
   "source": [
    "links=soup.find_all(\"div\",class_=\"div-col columns column-width\")"
   ]
  },
  {
   "cell_type": "code",
   "execution_count": null,
   "metadata": {},
   "outputs": [],
   "source": [
    "len(links)"
   ]
  },
  {
   "cell_type": "code",
   "execution_count": null,
   "metadata": {},
   "outputs": [],
   "source": [
    "all_links=links[0].find_all(\"li\")"
   ]
  },
  {
   "cell_type": "code",
   "execution_count": null,
   "metadata": {},
   "outputs": [],
   "source": [
    "links=[]\n",
    "for i in all_links:\n",
    "    links.append(i.a.get('href'))"
   ]
  },
  {
   "cell_type": "code",
   "execution_count": null,
   "metadata": {},
   "outputs": [],
   "source": [
    "links[links==\"/wiki/List_of_terrorist_incidents_in_January_2015\"]"
   ]
  },
  {
   "cell_type": "code",
   "execution_count": null,
   "metadata": {},
   "outputs": [],
   "source": [
    "from tqdm import tqdm\n",
    "tables=[]\n",
    "for l in tqdm(links.iloc[49:].tolist()):\n",
    "    base_url=\"https://en.wikipedia.org{}\"\n",
    "    url=base_url.format(l)\n",
    "    tables.append(get_data(url))"
   ]
  },
  {
   "cell_type": "code",
   "execution_count": null,
   "metadata": {},
   "outputs": [],
   "source": [
    "big_table=pd.concat(tables,axis=0)"
   ]
  },
  {
   "cell_type": "code",
   "execution_count": null,
   "metadata": {},
   "outputs": [],
   "source": [
    "big_table.head()"
   ]
  },
  {
   "cell_type": "code",
   "execution_count": null,
   "metadata": {},
   "outputs": [],
   "source": [
    "### By country how many incidents\n",
    "### By country and month how many incidents\n",
    "### Average number of people who died + got injured"
   ]
  },
  {
   "cell_type": "code",
   "execution_count": null,
   "metadata": {},
   "outputs": [],
   "source": [
    "big_table['location'].map(lambda x: x.split(\",\")[-1]).value_counts().head(2)"
   ]
  },
  {
   "cell_type": "code",
   "execution_count": null,
   "metadata": {},
   "outputs": [],
   "source": [
    "big_table['year']=big_table['url'].map(lambda x:x.split(\"_\")[-1])"
   ]
  },
  {
   "cell_type": "code",
   "execution_count": null,
   "metadata": {},
   "outputs": [],
   "source": [
    "big_table['month']=big_table['url'].map(lambda x:x.split(\"_\")[-2])"
   ]
  },
  {
   "cell_type": "code",
   "execution_count": null,
   "metadata": {},
   "outputs": [],
   "source": [
    "big_table['dead'].head()"
   ]
  },
  {
   "cell_type": "code",
   "execution_count": null,
   "metadata": {},
   "outputs": [],
   "source": [
    "### create a regex that identifies a number which can be 1,2,3 or 4 digit\n",
    "import re\n",
    "pattern=re.compile(r'\\d{1,4}')"
   ]
  },
  {
   "cell_type": "code",
   "execution_count": null,
   "metadata": {},
   "outputs": [],
   "source": [
    "import numpy as np\n",
    "def get_numbers(x):\n",
    "    r=re.findall(pattern,x)\n",
    "    if len(r)==0:\n",
    "        return np.nan\n",
    "    elif len(r)==2:\n",
    "        return float(r[0][0])\n",
    "    else:\n",
    "        return float(r[0])"
   ]
  },
  {
   "cell_type": "code",
   "execution_count": null,
   "metadata": {},
   "outputs": [],
   "source": [
    "big_table['injured'].map(get_numbers).mean().round(2)"
   ]
  },
  {
   "cell_type": "code",
   "execution_count": null,
   "metadata": {},
   "outputs": [],
   "source": [
    "big_table['dead'].map(get_numbers).mean().round(2)"
   ]
  },
  {
   "cell_type": "code",
   "execution_count": null,
   "metadata": {},
   "outputs": [],
   "source": [
    "### Oyo rooms\n",
    "url=\"https://www.oyorooms.com/hotels-in-coimbatore/?page=1\"\n",
    "browser.get(url)"
   ]
  },
  {
   "cell_type": "code",
   "execution_count": null,
   "metadata": {},
   "outputs": [],
   "source": [
    "html=browser.page_source"
   ]
  },
  {
   "cell_type": "code",
   "execution_count": null,
   "metadata": {},
   "outputs": [],
   "source": [
    "soup=BeautifulSoup(html,'html.parser')"
   ]
  },
  {
   "cell_type": "code",
   "execution_count": null,
   "metadata": {},
   "outputs": [],
   "source": [
    "soup.find_all(\"div\",class_=\"listingHotelDescription__contentWrapper--left\")[0].a.h3.text"
   ]
  },
  {
   "cell_type": "code",
   "execution_count": null,
   "metadata": {},
   "outputs": [],
   "source": [
    "name=[]\n",
    "for i in soup.find_all(\"div\",class_=\"listingHotelDescription__contentWrapper--left\"):\n",
    "    name.append(i.a.h3.text)"
   ]
  },
  {
   "cell_type": "code",
   "execution_count": null,
   "metadata": {},
   "outputs": [],
   "source": [
    "soup.find_all(\"span\",attrs={'itemprop':'streetAddress'})[0].text"
   ]
  },
  {
   "cell_type": "code",
   "execution_count": null,
   "metadata": {},
   "outputs": [],
   "source": [
    "soup.find_all(\"span\",attrs={'itemprop':'streetAddress'})[0]['title']"
   ]
  },
  {
   "cell_type": "code",
   "execution_count": null,
   "metadata": {},
   "outputs": [],
   "source": [
    "soup.find_all(\"span\",attrs={'itemprop':'streetAddress'})[0].get('title')"
   ]
  },
  {
   "cell_type": "code",
   "execution_count": null,
   "metadata": {},
   "outputs": [],
   "source": [
    "addr=[]\n",
    "for i in soup.find_all(\"span\",attrs={'itemprop':'streetAddress'}):\n",
    "    addr.append(i.get('title'))"
   ]
  },
  {
   "cell_type": "code",
   "execution_count": null,
   "metadata": {},
   "outputs": [],
   "source": [
    "soup.find_all(\"meta\",attrs={'itemprop':'ratingValue'})[0].get('content')"
   ]
  },
  {
   "cell_type": "code",
   "execution_count": null,
   "metadata": {},
   "outputs": [],
   "source": [
    "rating=[]\n",
    "for i in soup.find_all(\"meta\",attrs={'itemprop':'ratingValue'}):\n",
    "    rating.append(i.get('content'))"
   ]
  },
  {
   "cell_type": "code",
   "execution_count": null,
   "metadata": {},
   "outputs": [],
   "source": [
    "price=[]\n",
    "for i in soup.find_all(\"span\",class_=\"listingPrice__finalPrice\"):\n",
    "    price.append(i.text)"
   ]
  },
  {
   "cell_type": "code",
   "execution_count": null,
   "metadata": {},
   "outputs": [],
   "source": [
    "table=pd.DataFrame({'name':name,'addr':addr,'rating':rating,'price':price})"
   ]
  },
  {
   "cell_type": "code",
   "execution_count": null,
   "metadata": {},
   "outputs": [],
   "source": [
    "table.head(2)"
   ]
  },
  {
   "cell_type": "code",
   "execution_count": null,
   "metadata": {},
   "outputs": [],
   "source": [
    "def get_data(url):\n",
    "    browser.get(url)\n",
    "    html=browser.page_source\n",
    "    soup=BeautifulSoup(html,'html.parser')\n",
    "    name=[]\n",
    "    for i in soup.find_all(\"div\",class_=\"listingHotelDescription__contentWrapper--left\"):\n",
    "        name.append(i.a.h3.text)\n",
    "    addr=[]\n",
    "    for i in soup.find_all(\"span\",attrs={'itemprop':'streetAddress'}):\n",
    "        addr.append(i.get('title'))\n",
    "    rating=[]\n",
    "    for i in soup.find_all(\"meta\",attrs={'itemprop':'ratingValue'}):\n",
    "        rating.append(i.get('content'))\n",
    "    price=[]\n",
    "    for i in soup.find_all(\"span\",class_=\"listingPrice__finalPrice\"):\n",
    "        price.append(i.text)\n",
    "    table=pd.DataFrame({'name':name,'addr':addr,'rating':rating,'price':price})\n",
    "    return table"
   ]
  },
  {
   "cell_type": "code",
   "execution_count": null,
   "metadata": {},
   "outputs": [],
   "source": [
    "get_data(\"https://www.oyorooms.com/hotels-in-coimbatore/?page=1\")"
   ]
  },
  {
   "cell_type": "code",
   "execution_count": null,
   "metadata": {},
   "outputs": [],
   "source": []
  }
 ],
 "metadata": {
  "kernelspec": {
   "display_name": "Python 3",
   "language": "python",
   "name": "python3"
  },
  "language_info": {
   "codemirror_mode": {
    "name": "ipython",
    "version": 3
   },
   "file_extension": ".py",
   "mimetype": "text/x-python",
   "name": "python",
   "nbconvert_exporter": "python",
   "pygments_lexer": "ipython3",
   "version": "3.7.3"
  }
 },
 "nbformat": 4,
 "nbformat_minor": 2
}
